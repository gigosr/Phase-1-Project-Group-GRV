{
 "cells": [
  {
   "cell_type": "markdown",
   "metadata": {},
   "source": [
    "# Data Combination over Movie Data Sets (CSV Files)"
   ]
  },
  {
   "cell_type": "markdown",
   "metadata": {},
   "source": [
    "The purpose of this notebook is to document the steps taken in order to generate movies_df and studios_df, which will be used for further analysis to make recommendations to Microsoft on where they could enter the original movie production business.\n",
    "\n",
    "The scope of this excercise is the provided CSV Files:\n",
    "- bom.Movie_gross.csv.gz\n",
    "- rt.movie_info_tsv.gz\n",
    "- rt.reviews.tsv.gz\n",
    "- tmdb.movies.csv.gz\n",
    "- tn.movie_budgets.csv.gz"
   ]
  },
  {
   "cell_type": "markdown",
   "metadata": {},
   "source": [
    "<figure>\n",
    "    <img src=\"Converging Arrows.png\"\n",
    "         alt=\"Let's synthesize some data\"\n",
    "         width=\"400\"\n",
    "         height=\"200\">\n",
    "    <figcaption><center><bold>Putting it all together</figcaption>\n",
    "</figure>"
   ]
  },
  {
   "cell_type": "markdown",
   "metadata": {},
   "source": [
    "From the EDA notebook:\n",
    "\n",
    "The CSV files will contain the relevant financial data needed to make a recommendation to Microsoft. Our key metric will be profitability of movie titles, then profitability by genre, and then identifying people in the movie making labor force would be best for the job (using a mix of both movie profitability and critic reviews)"
   ]
  },
  {
   "cell_type": "markdown",
   "metadata": {},
   "source": [
    "## Master Table Import: \"tn.movie_budgets.csv.gz\""
   ]
  },
  {
   "cell_type": "markdown",
   "metadata": {},
   "source": [
    "### *Basic Import*"
   ]
  },
  {
   "cell_type": "markdown",
   "metadata": {},
   "source": [
    "For purposes of our combination, we will use 'tn.movie_budgets.csv.gz' as our beginning source of truth, as it contains the most relevant information we are looking to investigate (mainly, domestic and international box office sales and movie budget)"
   ]
  },
  {
   "cell_type": "code",
   "execution_count": null,
   "metadata": {},
   "outputs": [],
   "source": [
    "import pandas as pd\n",
    "import matplotlib.pyplot as plt\n",
    "import seaborn as sns\n",
    "import datetime\n",
    "import string\n",
    "punct = '!\"#$%&\\'()*+,-./:;<=>?@[\\\\]^_`{}~'"
   ]
  },
  {
   "cell_type": "code",
   "execution_count": null,
   "metadata": {
    "scrolled": true
   },
   "outputs": [],
   "source": [
    "df_budgets = pd.read_csv(\"Raw Data/tn.movie_budgets.csv.gz\")"
   ]
  },
  {
   "cell_type": "code",
   "execution_count": null,
   "metadata": {},
   "outputs": [],
   "source": [
    "df_budgets.head(2)"
   ]
  },
  {
   "cell_type": "markdown",
   "metadata": {},
   "source": [
    "Converting the financial data into numbers, release_date info into datetime objects, and creating a 'year' column:"
   ]
  },
  {
   "cell_type": "code",
   "execution_count": null,
   "metadata": {},
   "outputs": [],
   "source": [
    "df_budgets['worldwide_gross'] = df_budgets['worldwide_gross'].str.replace('$', '').str.replace(',', '')\n",
    "df_budgets['domestic_gross'] = df_budgets['domestic_gross'].str.replace('$', '').str.replace(',', '')\n",
    "df_budgets['production_budget'] = df_budgets['production_budget'].str.replace('$', '').str.replace(',', '')\n",
    "\n",
    "df_budgets['worldwide_gross'] = df_budgets['worldwide_gross'].astype(float)\n",
    "df_budgets['domestic_gross'] = df_budgets['domestic_gross'].astype(float)\n",
    "df_budgets['production_budget'] = df_budgets['production_budget'].astype(float)\n",
    "\n",
    "df_budgets['release_date'] = pd.to_datetime(df_budgets['release_date'])\n",
    "\n",
    "df_budgets['year'] = df_budgets['release_date'].dt.strftime('%Y')\n",
    "df_budgets['year'] = df_budgets['year'].map(int)"
   ]
  },
  {
   "cell_type": "markdown",
   "metadata": {},
   "source": [
    "Since we will be combining additional genre info based off of the title of the movie, we will normalize punctuation use by removing punctuation from all titles in this data source and later data sources:"
   ]
  },
  {
   "cell_type": "code",
   "execution_count": null,
   "metadata": {},
   "outputs": [],
   "source": [
    "transtab = str.maketrans(dict.fromkeys(punct, ''))\n",
    "\n",
    "df_budgets['movie'] = '|'.join(df_budgets['movie'].tolist()).translate(transtab).split('|')"
   ]
  },
  {
   "cell_type": "markdown",
   "metadata": {},
   "source": [
    "We will create a profit calculation, which is worldwide_gross minus the production budget. We will also create a column which calculates the percentage of profit margin"
   ]
  },
  {
   "cell_type": "code",
   "execution_count": null,
   "metadata": {},
   "outputs": [],
   "source": [
    "df_budgets['profit'] = df_budgets['worldwide_gross'] - df_budgets['production_budget']\n",
    "df_budgets['profit_margin'] = (df_budgets['profit'] / df_budgets['worldwide_gross']) * 100"
   ]
  },
  {
   "cell_type": "code",
   "execution_count": null,
   "metadata": {},
   "outputs": [],
   "source": [
    "df_budgets.head()"
   ]
  },
  {
   "cell_type": "markdown",
   "metadata": {},
   "source": [
    "A studio like Microsoft will likely put at least 100k into it's projects, so we will filter for budgets above $100k. They will likely not be interested in festivals or other distributions that will not have box office values, so we will filter out movies with zero box office sales"
   ]
  },
  {
   "cell_type": "code",
   "execution_count": null,
   "metadata": {},
   "outputs": [],
   "source": [
    "df_budgets = df_budgets[df_budgets['production_budget'] > 100000]\n",
    "df_budgets = df_budgets[(df_budgets['domestic_gross'] > 1) | (df_budgets['worldwide_gross'] > 1)]\n",
    "df_budgets = df_budgets[df_budgets['year'] > 2000]"
   ]
  },
  {
   "cell_type": "code",
   "execution_count": null,
   "metadata": {},
   "outputs": [],
   "source": [
    "duplicates = df_budgets[df_budgets.duplicated(['movie'], keep=False)]"
   ]
  },
  {
   "cell_type": "code",
   "execution_count": null,
   "metadata": {},
   "outputs": [],
   "source": [
    "duplicates"
   ]
  },
  {
   "cell_type": "code",
   "execution_count": null,
   "metadata": {},
   "outputs": [],
   "source": [
    "df_budgets.info()"
   ]
  },
  {
   "cell_type": "markdown",
   "metadata": {},
   "source": [
    "## Appending Genre using additional IMDB Data"
   ]
  },
  {
   "cell_type": "code",
   "execution_count": null,
   "metadata": {},
   "outputs": [],
   "source": [
    "df_additional = pd.read_csv(\"Raw Data/title.basics.tsv.gz\", sep='\\t', encoding='latin1')\n",
    "df_additional['primaryTitle'] = df_additional['primaryTitle'].map(str)\n",
    "df_additional = df_additional[df_additional['titleType'] == 'movie']"
   ]
  },
  {
   "cell_type": "code",
   "execution_count": null,
   "metadata": {},
   "outputs": [],
   "source": [
    "transtab = str.maketrans(dict.fromkeys(punct, ''))\n",
    "\n",
    "df_additional['primaryTitle'] = '|'.join(df_additional['primaryTitle'].tolist()).translate(transtab).split('|')"
   ]
  },
  {
   "cell_type": "markdown",
   "metadata": {},
   "source": [
    "## Appending Genre using CSV Data"
   ]
  },
  {
   "cell_type": "code",
   "execution_count": null,
   "metadata": {},
   "outputs": [],
   "source": [
    "df_budget_genre = df_budgets.merge(df_additional.drop_duplicates('primaryTitle'), how='left', left_on='movie', right_on='primaryTitle')"
   ]
  },
  {
   "cell_type": "code",
   "execution_count": null,
   "metadata": {},
   "outputs": [],
   "source": [
    "df_budget_genre.head(60)"
   ]
  },
  {
   "cell_type": "code",
   "execution_count": null,
   "metadata": {},
   "outputs": [],
   "source": [
    "df_budget_genre[df_budget_genre['genres'].isnull()]"
   ]
  },
  {
   "cell_type": "code",
   "execution_count": null,
   "metadata": {
    "scrolled": false
   },
   "outputs": [],
   "source": [
    "df_budget_genre.isna().sum()"
   ]
  },
  {
   "cell_type": "code",
   "execution_count": null,
   "metadata": {},
   "outputs": [],
   "source": [
    "from pathlib import Path  \n",
    "filepath = Path('financial_data.csv')  \n",
    "filepath.parent.mkdir(parents=True, exist_ok=True)  \n",
    "df_budget_genre.to_csv(filepath)  "
   ]
  }
 ],
 "metadata": {
  "kernelspec": {
   "display_name": "Python (learn-env)",
   "language": "python",
   "name": "learn-env"
  },
  "language_info": {
   "codemirror_mode": {
    "name": "ipython",
    "version": 3
   },
   "file_extension": ".py",
   "mimetype": "text/x-python",
   "name": "python",
   "nbconvert_exporter": "python",
   "pygments_lexer": "ipython3",
   "version": "3.8.5"
  }
 },
 "nbformat": 4,
 "nbformat_minor": 4
}
